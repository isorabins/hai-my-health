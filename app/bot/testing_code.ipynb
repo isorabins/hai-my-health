{
 "cells": [
  {
   "cell_type": "code",
   "execution_count": 9,
   "metadata": {},
   "outputs": [],
   "source": [
    "from crewai import Agent, Task"
   ]
  },
  {
   "cell_type": "code",
   "execution_count": 10,
   "metadata": {},
   "outputs": [],
   "source": [
    "import openai\n",
    "import os\n",
    "from crewai import Crew, Process, Task, Agent\n",
    "import logging\n",
    "from langchain_openai import ChatOpenAI"
   ]
  },
  {
   "cell_type": "code",
   "execution_count": 11,
   "metadata": {},
   "outputs": [],
   "source": [
    "openai.api_key = os.environ[\"OPENAI_TOKEN\"]\n",
    "openai_version = os.environ[\"OPENAI_VERSION\"]\n",
    "openai.api_key = os.environ[\"OPENAI_API_KEY\"]"
   ]
  },
  {
   "cell_type": "code",
   "execution_count": 12,
   "metadata": {},
   "outputs": [],
   "source": [
    "initial_interviewer = Agent(\n",
    "    role='initial_interviewer',\n",
    "    goal=(\n",
    "        \"gather baseline health data from the user to create a database where their symptoms can\"\n",
    "        \" be tracked and analyzed over time\"\n",
    "    ),\n",
    "    verbose=True,\n",
    "    memory=True,\n",
    "    backstory=(\n",
    "        \"I am a symptom tracker, eager to help you improve your health and well-being.\"\n",
    "        \" Friendly, helpful, focused on privacy and making the user feel comfortable\"\n",
    "        \" I don't diagnose, just collect information to help you track your symptoms.\"\n",
    "    ),\n",
    "    allow_delegation=True\n",
    ")"
   ]
  },
  {
   "cell_type": "code",
   "execution_count": 13,
   "metadata": {},
   "outputs": [],
   "source": [
    "daily_interviewer = Agent(\n",
    "    role='daily_interviewer',\n",
    "    goal=(\n",
    "        \"check in each day with the patient to gather data on their symptoms and how they are feeling\"\n",
    "        \" see if there are any changes or new symptoms/medications to report\"\n",
    "        \" update their file with new information\"\n",
    "    ),\n",
    "    verbose=True,\n",
    "    memory=True,\n",
    "    backstory=(\n",
    "        \"I am a symptom tracker, eager to help you improve your health and well-being.\"\n",
    "        \" Friendly, helpful, focused on privacy and making the user feel comfortable\"\n",
    "        \" I don't diagnose, just collect information to help you track your symptoms.\"\n",
    "    ),\n",
    "    allow_delegation=True\n",
    ")"
   ]
  },
  {
   "cell_type": "code",
   "execution_count": 14,
   "metadata": {},
   "outputs": [],
   "source": [
    "# Initial interview task\n",
    "interview_task = Task(\n",
    "    description=(\n",
    "        \"collect initial baseline health data from the user\"\n",
    "        \" 1-10 scales where possible, in NL where not possible.\"\n",
    "        \" Goal is to collect data that can be input into a DB\"\n",
    "        \" categories include general health, sleep, exercise, nutrition, mental health, medications, allergies, health conditions, family history, diet\"\n",
    "        \" any specific symptoms or concerns that the patient wants to track.\"\n",
    "    ),\n",
    "    expected_output='a database of the user\\'s health data',\n",
    "    agent=initial_interviewer,\n",
    "    output_file='new-db.csv'\n",
    ")"
   ]
  },
  {
   "cell_type": "code",
   "execution_count": 15,
   "metadata": {},
   "outputs": [],
   "source": [
    "# Daily follow-up interviews\n",
    "write_task = Task(\n",
    "    description=(\n",
    "        \"Complete a daily follow-up interview with the patient\"\n",
    "        \" Check on if baseline information has changed, and update DB with new daily entry \"\n",
    "        \" Ask follow-up questions where needed to get more detailed information\"\n",
    "        \" enter information into DB in machine-readable format\"\n",
    "    ),\n",
    "    expected_output='A daily entry in the patient\\'s DB that can be references for trends and changes over time',\n",
    "    agent=daily_interviewer,\n",
    "    async_execution=False,\n",
    "    output_file='new-entry.csv'  # Example of output customization\n",
    ")"
   ]
  },
  {
   "cell_type": "code",
   "execution_count": 16,
   "metadata": {},
   "outputs": [],
   "source": [
    "#form the crew\n",
    "crew = Crew(\n",
    "  agents=[initial_interviewer, daily_interviewer],\n",
    "  tasks=[interview_task, write_task],\n",
    "  process=Process.sequential  # Optional: Sequential task execution is default\n",
    ")"
   ]
  },
  {
   "cell_type": "code",
   "execution_count": 17,
   "metadata": {},
   "outputs": [
    {
     "ename": "TypeError",
     "evalue": "kickoff() got an unexpected keyword argument 'inputs'",
     "output_type": "error",
     "traceback": [
      "\u001b[0;31m---------------------------------------------------------------------------\u001b[0m",
      "\u001b[0;31mTypeError\u001b[0m                                 Traceback (most recent call last)",
      "\u001b[1;32mUntitled-1.ipynb Cell 9\u001b[0m line \u001b[0;36m2\n\u001b[1;32m      <a href='vscode-notebook-cell:Untitled-1.ipynb?jupyter-notebook#X14sdW50aXRsZWQ%3D?line=0'>1</a>\u001b[0m \u001b[39m# Starting the task execution process with enhanced feedback\u001b[39;00m\n\u001b[0;32m----> <a href='vscode-notebook-cell:Untitled-1.ipynb?jupyter-notebook#X14sdW50aXRsZWQ%3D?line=1'>2</a>\u001b[0m result \u001b[39m=\u001b[39m crew\u001b[39m.\u001b[39;49mkickoff(inputs\u001b[39m=\u001b[39;49m{\u001b[39m'\u001b[39;49m\u001b[39mtopic\u001b[39;49m\u001b[39m'\u001b[39;49m: \u001b[39m'\u001b[39;49m\u001b[39mAI in healthcare\u001b[39;49m\u001b[39m'\u001b[39;49m})\n\u001b[1;32m      <a href='vscode-notebook-cell:Untitled-1.ipynb?jupyter-notebook#X14sdW50aXRsZWQ%3D?line=2'>3</a>\u001b[0m \u001b[39mprint\u001b[39m(result)\n",
      "\u001b[0;31mTypeError\u001b[0m: kickoff() got an unexpected keyword argument 'inputs'"
     ]
    }
   ],
   "source": [
    "# Starting the task execution process with enhanced feedback\n",
    "result = crew.kickoff(inputs={'topic': 'AI in healthcare'})\n",
    "print(result)"
   ]
  },
  {
   "cell_type": "code",
   "execution_count": null,
   "metadata": {},
   "outputs": [],
   "source": [
    "# Define a simple task\n",
    "task = Task(\n",
    "    description='Analyze the reported symptoms and identify any trends.',\n",
    "    expected_output='A brief report on the identified trends in symptoms.',\n",
    "    agent=agent,\n",
    ")"
   ]
  },
  {
   "cell_type": "code",
   "execution_count": null,
   "metadata": {},
   "outputs": [],
   "source": [
    "# Execute the task\n",
    "def test_agent_task():\n",
    "    print(\"Starting task execution...\")\n",
    "    result = task.execute(inputs={'symptoms': 'Headache, fever, tiredness'})\n",
    "    print(\"Task completed. Result:\")\n",
    "    print(result)"
   ]
  },
  {
   "cell_type": "code",
   "execution_count": null,
   "metadata": {},
   "outputs": [
    {
     "name": "stdout",
     "output_type": "stream",
     "text": [
      "Starting task execution...\n"
     ]
    },
    {
     "ename": "TypeError",
     "evalue": "execute() got an unexpected keyword argument 'inputs'",
     "output_type": "error",
     "traceback": [
      "\u001b[0;31m---------------------------------------------------------------------------\u001b[0m",
      "\u001b[0;31mTypeError\u001b[0m                                 Traceback (most recent call last)",
      "\u001b[1;32mUntitled-1.ipynb Cell 7\u001b[0m line \u001b[0;36m2\n\u001b[1;32m      <a href='vscode-notebook-cell:Untitled-1.ipynb?jupyter-notebook#W4sdW50aXRsZWQ%3D?line=0'>1</a>\u001b[0m \u001b[39mif\u001b[39;00m \u001b[39m__name__\u001b[39m \u001b[39m==\u001b[39m \u001b[39m\"\u001b[39m\u001b[39m__main__\u001b[39m\u001b[39m\"\u001b[39m:\n\u001b[0;32m----> <a href='vscode-notebook-cell:Untitled-1.ipynb?jupyter-notebook#W4sdW50aXRsZWQ%3D?line=1'>2</a>\u001b[0m     test_agent_task()\n",
      "\u001b[1;32mUntitled-1.ipynb Cell 7\u001b[0m line \u001b[0;36m4\n\u001b[1;32m      <a href='vscode-notebook-cell:Untitled-1.ipynb?jupyter-notebook#W4sdW50aXRsZWQ%3D?line=1'>2</a>\u001b[0m \u001b[39mdef\u001b[39;00m \u001b[39mtest_agent_task\u001b[39m():\n\u001b[1;32m      <a href='vscode-notebook-cell:Untitled-1.ipynb?jupyter-notebook#W4sdW50aXRsZWQ%3D?line=2'>3</a>\u001b[0m     \u001b[39mprint\u001b[39m(\u001b[39m\"\u001b[39m\u001b[39mStarting task execution...\u001b[39m\u001b[39m\"\u001b[39m)\n\u001b[0;32m----> <a href='vscode-notebook-cell:Untitled-1.ipynb?jupyter-notebook#W4sdW50aXRsZWQ%3D?line=3'>4</a>\u001b[0m     result \u001b[39m=\u001b[39m task\u001b[39m.\u001b[39;49mexecute(inputs\u001b[39m=\u001b[39;49m{\u001b[39m'\u001b[39;49m\u001b[39msymptoms\u001b[39;49m\u001b[39m'\u001b[39;49m: \u001b[39m'\u001b[39;49m\u001b[39mHeadache, fever, tiredness\u001b[39;49m\u001b[39m'\u001b[39;49m})\n\u001b[1;32m      <a href='vscode-notebook-cell:Untitled-1.ipynb?jupyter-notebook#W4sdW50aXRsZWQ%3D?line=4'>5</a>\u001b[0m     \u001b[39mprint\u001b[39m(\u001b[39m\"\u001b[39m\u001b[39mTask completed. Result:\u001b[39m\u001b[39m\"\u001b[39m)\n\u001b[1;32m      <a href='vscode-notebook-cell:Untitled-1.ipynb?jupyter-notebook#W4sdW50aXRsZWQ%3D?line=5'>6</a>\u001b[0m     \u001b[39mprint\u001b[39m(result)\n",
      "\u001b[0;31mTypeError\u001b[0m: execute() got an unexpected keyword argument 'inputs'"
     ]
    }
   ],
   "source": [
    "if __name__ == \"__main__\":\n",
    "    test_agent_task()"
   ]
  }
 ],
 "metadata": {
  "kernelspec": {
   "display_name": "new_hai",
   "language": "python",
   "name": "python3"
  },
  "language_info": {
   "codemirror_mode": {
    "name": "ipython",
    "version": 3
   },
   "file_extension": ".py",
   "mimetype": "text/x-python",
   "name": "python",
   "nbconvert_exporter": "python",
   "pygments_lexer": "ipython3",
   "version": "3.9.18"
  }
 },
 "nbformat": 4,
 "nbformat_minor": 2
}
