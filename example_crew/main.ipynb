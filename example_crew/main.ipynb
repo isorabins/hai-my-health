{
 "cells": [
  {
   "cell_type": "code",
   "execution_count": 7,
   "metadata": {},
   "outputs": [
    {
     "ename": "ModuleNotFoundError",
     "evalue": "No module named 'nbformat'",
     "output_type": "error",
     "traceback": [
      "\u001b[0;31m---------------------------------------------------------------------------\u001b[0m",
      "\u001b[0;31mModuleNotFoundError\u001b[0m                       Traceback (most recent call last)",
      "\u001b[1;32m/Users/isorabins/Desktop/GPT_AI/HAI_MY_HEALTH/new_hai/example_crew/main.ipynb Cell 1\u001b[0m line \u001b[0;36m1\n\u001b[0;32m----> <a href='vscode-notebook-cell:/Users/isorabins/Desktop/GPT_AI/HAI_MY_HEALTH/new_hai/example_crew/main.ipynb#X15sZmlsZQ%3D%3D?line=0'>1</a>\u001b[0m get_ipython()\u001b[39m.\u001b[39;49mrun_line_magic(\u001b[39m'\u001b[39;49m\u001b[39mrun\u001b[39;49m\u001b[39m'\u001b[39;49m, \u001b[39m'\u001b[39;49m\u001b[39mtasks2.ipynb\u001b[39;49m\u001b[39m'\u001b[39;49m)\n\u001b[1;32m      <a href='vscode-notebook-cell:/Users/isorabins/Desktop/GPT_AI/HAI_MY_HEALTH/new_hai/example_crew/main.ipynb#X15sZmlsZQ%3D%3D?line=1'>2</a>\u001b[0m get_ipython()\u001b[39m.\u001b[39mrun_line_magic(\u001b[39m'\u001b[39m\u001b[39mrun\u001b[39m\u001b[39m'\u001b[39m, \u001b[39m'\u001b[39m\u001b[39magents.ipynb\u001b[39m\u001b[39m'\u001b[39m)\n",
      "File \u001b[0;32m~/miniconda3/envs/new_hai/lib/python3.9/site-packages/IPython/core/interactiveshell.py:2414\u001b[0m, in \u001b[0;36mInteractiveShell.run_line_magic\u001b[0;34m(self, magic_name, line, _stack_depth)\u001b[0m\n\u001b[1;32m   2412\u001b[0m     kwargs[\u001b[39m'\u001b[39m\u001b[39mlocal_ns\u001b[39m\u001b[39m'\u001b[39m] \u001b[39m=\u001b[39m \u001b[39mself\u001b[39m\u001b[39m.\u001b[39mget_local_scope(stack_depth)\n\u001b[1;32m   2413\u001b[0m \u001b[39mwith\u001b[39;00m \u001b[39mself\u001b[39m\u001b[39m.\u001b[39mbuiltin_trap:\n\u001b[0;32m-> 2414\u001b[0m     result \u001b[39m=\u001b[39m fn(\u001b[39m*\u001b[39;49margs, \u001b[39m*\u001b[39;49m\u001b[39m*\u001b[39;49mkwargs)\n\u001b[1;32m   2416\u001b[0m \u001b[39m# The code below prevents the output from being displayed\u001b[39;00m\n\u001b[1;32m   2417\u001b[0m \u001b[39m# when using magics with decodator @output_can_be_silenced\u001b[39;00m\n\u001b[1;32m   2418\u001b[0m \u001b[39m# when the last Python token in the expression is a ';'.\u001b[39;00m\n\u001b[1;32m   2419\u001b[0m \u001b[39mif\u001b[39;00m \u001b[39mgetattr\u001b[39m(fn, magic\u001b[39m.\u001b[39mMAGIC_OUTPUT_CAN_BE_SILENCED, \u001b[39mFalse\u001b[39;00m):\n",
      "File \u001b[0;32m~/miniconda3/envs/new_hai/lib/python3.9/site-packages/IPython/core/magics/execution.py:722\u001b[0m, in \u001b[0;36mExecutionMagics.run\u001b[0;34m(self, parameter_s, runner, file_finder)\u001b[0m\n\u001b[1;32m    720\u001b[0m     \u001b[39mwith\u001b[39;00m preserve_keys(\u001b[39mself\u001b[39m\u001b[39m.\u001b[39mshell\u001b[39m.\u001b[39muser_ns, \u001b[39m'\u001b[39m\u001b[39m__file__\u001b[39m\u001b[39m'\u001b[39m):\n\u001b[1;32m    721\u001b[0m         \u001b[39mself\u001b[39m\u001b[39m.\u001b[39mshell\u001b[39m.\u001b[39muser_ns[\u001b[39m'\u001b[39m\u001b[39m__file__\u001b[39m\u001b[39m'\u001b[39m] \u001b[39m=\u001b[39m filename\n\u001b[0;32m--> 722\u001b[0m         \u001b[39mself\u001b[39;49m\u001b[39m.\u001b[39;49mshell\u001b[39m.\u001b[39;49msafe_execfile_ipy(filename, raise_exceptions\u001b[39m=\u001b[39;49m\u001b[39mTrue\u001b[39;49;00m)\n\u001b[1;32m    723\u001b[0m     \u001b[39mreturn\u001b[39;00m\n\u001b[1;32m    725\u001b[0m \u001b[39m# Control the response to exit() calls made by the script being run\u001b[39;00m\n",
      "File \u001b[0;32m~/miniconda3/envs/new_hai/lib/python3.9/site-packages/IPython/core/interactiveshell.py:2933\u001b[0m, in \u001b[0;36mInteractiveShell.safe_execfile_ipy\u001b[0;34m(self, fname, shell_futures, raise_exceptions)\u001b[0m\n\u001b[1;32m   2931\u001b[0m \u001b[39mwith\u001b[39;00m prepended_to_syspath(dname):\n\u001b[1;32m   2932\u001b[0m     \u001b[39mtry\u001b[39;00m:\n\u001b[0;32m-> 2933\u001b[0m         \u001b[39mfor\u001b[39;00m cell \u001b[39min\u001b[39;00m get_cells():\n\u001b[1;32m   2934\u001b[0m             result \u001b[39m=\u001b[39m \u001b[39mself\u001b[39m\u001b[39m.\u001b[39mrun_cell(cell, silent\u001b[39m=\u001b[39m\u001b[39mTrue\u001b[39;00m, shell_futures\u001b[39m=\u001b[39mshell_futures)\n\u001b[1;32m   2935\u001b[0m             \u001b[39mif\u001b[39;00m raise_exceptions:\n",
      "File \u001b[0;32m~/miniconda3/envs/new_hai/lib/python3.9/site-packages/IPython/core/interactiveshell.py:2921\u001b[0m, in \u001b[0;36mInteractiveShell.safe_execfile_ipy.<locals>.get_cells\u001b[0;34m()\u001b[0m\n\u001b[1;32m   2919\u001b[0m \u001b[39m\u001b[39m\u001b[39m\"\"\"generator for sequence of code blocks to run\"\"\"\u001b[39;00m\n\u001b[1;32m   2920\u001b[0m \u001b[39mif\u001b[39;00m fname\u001b[39m.\u001b[39msuffix \u001b[39m==\u001b[39m \u001b[39m\"\u001b[39m\u001b[39m.ipynb\u001b[39m\u001b[39m\"\u001b[39m:\n\u001b[0;32m-> 2921\u001b[0m     \u001b[39mfrom\u001b[39;00m \u001b[39mnbformat\u001b[39;00m \u001b[39mimport\u001b[39;00m read\n\u001b[1;32m   2922\u001b[0m     nb \u001b[39m=\u001b[39m read(fname, as_version\u001b[39m=\u001b[39m\u001b[39m4\u001b[39m)\n\u001b[1;32m   2923\u001b[0m     \u001b[39mif\u001b[39;00m \u001b[39mnot\u001b[39;00m nb\u001b[39m.\u001b[39mcells:\n",
      "\u001b[0;31mModuleNotFoundError\u001b[0m: No module named 'nbformat'"
     ]
    }
   ],
   "source": [
    "%run tasks2.ipynb\n",
    "%run agents.ipynb"
   ]
  },
  {
   "cell_type": "code",
   "execution_count": null,
   "metadata": {},
   "outputs": [
    {
     "ename": "ModuleNotFoundError",
     "evalue": "No module named 'HealthCoachTasks'",
     "output_type": "error",
     "traceback": [
      "\u001b[0;31m---------------------------------------------------------------------------\u001b[0m",
      "\u001b[0;31mModuleNotFoundError\u001b[0m                       Traceback (most recent call last)",
      "\u001b[1;32m/Users/isorabins/Desktop/GPT_AI/HAI_MY_HEALTH/new_hai/example_crew/main.ipynb Cell 1\u001b[0m line \u001b[0;36m6\n\u001b[1;32m      <a href='vscode-notebook-cell:/Users/isorabins/Desktop/GPT_AI/HAI_MY_HEALTH/new_hai/example_crew/main.ipynb#W3sZmlsZQ%3D%3D?line=1'>2</a>\u001b[0m load_dotenv()\n\u001b[1;32m      <a href='vscode-notebook-cell:/Users/isorabins/Desktop/GPT_AI/HAI_MY_HEALTH/new_hai/example_crew/main.ipynb#W3sZmlsZQ%3D%3D?line=3'>4</a>\u001b[0m \u001b[39mfrom\u001b[39;00m \u001b[39mcrewai\u001b[39;00m \u001b[39mimport\u001b[39;00m Agent, Crew, Task\n\u001b[0;32m----> <a href='vscode-notebook-cell:/Users/isorabins/Desktop/GPT_AI/HAI_MY_HEALTH/new_hai/example_crew/main.ipynb#W3sZmlsZQ%3D%3D?line=5'>6</a>\u001b[0m \u001b[39mfrom\u001b[39;00m \u001b[39mHealthCoachTasks\u001b[39;00m \u001b[39mimport\u001b[39;00m HealthCoachTasks\n\u001b[1;32m      <a href='vscode-notebook-cell:/Users/isorabins/Desktop/GPT_AI/HAI_MY_HEALTH/new_hai/example_crew/main.ipynb#W3sZmlsZQ%3D%3D?line=6'>7</a>\u001b[0m \u001b[39mfrom\u001b[39;00m \u001b[39mhealthagents\u001b[39;00m \u001b[39mimport\u001b[39;00m HealthAgents\n",
      "\u001b[0;31mModuleNotFoundError\u001b[0m: No module named 'HealthCoachTasks'"
     ]
    }
   ],
   "source": [
    "from dotenv import load_dotenv\n",
    "load_dotenv()\n",
    "\n",
    "from crewai import Agent, Crew, Task\n",
    "\n",
    "from HealthCoachTasks import HealthCoachTasks\n",
    "from healthagents import HealthAgents"
   ]
  },
  {
   "cell_type": "code",
   "execution_count": 8,
   "metadata": {},
   "outputs": [
    {
     "ename": "NameError",
     "evalue": "name 'HealthCoachTasks' is not defined",
     "output_type": "error",
     "traceback": [
      "\u001b[0;31m---------------------------------------------------------------------------\u001b[0m",
      "\u001b[0;31mNameError\u001b[0m                                 Traceback (most recent call last)",
      "\u001b[1;32m/Users/isorabins/Desktop/GPT_AI/HAI_MY_HEALTH/new_hai/example_crew/main.ipynb Cell 3\u001b[0m line \u001b[0;36m2\n\u001b[1;32m      <a href='vscode-notebook-cell:/Users/isorabins/Desktop/GPT_AI/HAI_MY_HEALTH/new_hai/example_crew/main.ipynb#W4sZmlsZQ%3D%3D?line=0'>1</a>\u001b[0m \u001b[39m# Initialize the task and agent classes\u001b[39;00m\n\u001b[0;32m----> <a href='vscode-notebook-cell:/Users/isorabins/Desktop/GPT_AI/HAI_MY_HEALTH/new_hai/example_crew/main.ipynb#W4sZmlsZQ%3D%3D?line=1'>2</a>\u001b[0m tasks \u001b[39m=\u001b[39m HealthCoachTasks()\n\u001b[1;32m      <a href='vscode-notebook-cell:/Users/isorabins/Desktop/GPT_AI/HAI_MY_HEALTH/new_hai/example_crew/main.ipynb#W4sZmlsZQ%3D%3D?line=2'>3</a>\u001b[0m agents \u001b[39m=\u001b[39m HealthAgents()\n\u001b[1;32m      <a href='vscode-notebook-cell:/Users/isorabins/Desktop/GPT_AI/HAI_MY_HEALTH/new_hai/example_crew/main.ipynb#W4sZmlsZQ%3D%3D?line=4'>5</a>\u001b[0m \u001b[39mprint\u001b[39m(\u001b[39m\"\u001b[39m\u001b[39m## Welcome to \u001b[39m\u001b[39m'\u001b[39m\u001b[39mHai\u001b[39m\u001b[39m'\u001b[39m\u001b[39m the Health Coach Interface\u001b[39m\u001b[39m\"\u001b[39m)\n",
      "\u001b[0;31mNameError\u001b[0m: name 'HealthCoachTasks' is not defined"
     ]
    }
   ],
   "source": [
    "# Initialize the task and agent classes\n",
    "tasks = HealthCoachTasks()\n",
    "agents = HealthAgents()\n",
    "\n",
    "print(\"## Welcome to 'Hai' the Health Coach Interface\")\n",
    "print('------------------------------------------------')\n"
   ]
  },
  {
   "cell_type": "code",
   "execution_count": null,
   "metadata": {},
   "outputs": [],
   "source": [
    "# For testing, we might want a simple command line interface\n",
    "action = input(\"Please select an action:\\n1. Start Initial Interview\\n2. Generate Health Insight\\n3. Daily Check-in\\n> \")\n"
   ]
  },
  {
   "cell_type": "code",
   "execution_count": null,
   "metadata": {},
   "outputs": [],
   "source": [
    "# Create Agents\n",
    "hai_initial_agent = agents.hai_initial()\n",
    "insight_generator_agent = agents.insight_generator_agent()\n",
    "hai_daily_agent = agents.hai_daily()"
   ]
  },
  {
   "cell_type": "code",
   "execution_count": null,
   "metadata": {},
   "outputs": [],
   "source": [
    "# Define Tasks for each agent (for illustration, let's assume each method is already defined in HealthCoachTasks)\n",
    "initial_interview_task = tasks.initial_health_interview(hai_initial_agent)\n",
    "health_insight_task = tasks.weekly_health_insight(insight_generator_agent)\n",
    "daily_checkin_task = tasks.daily_symptom_checkin(hai_daily_agent)"
   ]
  },
  {
   "cell_type": "code",
   "execution_count": null,
   "metadata": {},
   "outputs": [],
   "source": [
    "# Decide on action based on user input\n",
    "if action == \"1\":\n",
    "    selected_task = initial_interview_task\n",
    "    selected_agent = hai_initial_agent\n",
    "elif action == \"2\":\n",
    "    selected_task = health_insight_task\n",
    "    selected_agent = insight_generator_agent\n",
    "elif action == \"3\":\n",
    "    selected_task = daily_checkin_task\n",
    "    selected_agent = hai_daily_agent\n",
    "else:\n",
    "    print(\"Invalid selection. Exiting.\")\n",
    "    exit()"
   ]
  },
  {
   "cell_type": "code",
   "execution_count": null,
   "metadata": {},
   "outputs": [],
   "source": [
    "# Create a Crew with the selected agent and task\n",
    "test_crew = Crew(\n",
    "    agents=[selected_agent],\n",
    "    tasks=[selected_task],\n",
    "    verbose=True\n",
    ")\n"
   ]
  },
  {
   "cell_type": "code",
   "execution_count": null,
   "metadata": {},
   "outputs": [],
   "source": [
    "# Kick off the selected task and print the result\n",
    "result = test_crew.kickoff()\n",
    "\n",
    "print(\"\\n## 'Hai' the Health Coach responds:\")\n",
    "print(result)"
   ]
  }
 ],
 "metadata": {
  "kernelspec": {
   "display_name": "new_hai",
   "language": "python",
   "name": "python3"
  },
  "language_info": {
   "codemirror_mode": {
    "name": "ipython",
    "version": 3
   },
   "file_extension": ".py",
   "mimetype": "text/x-python",
   "name": "python",
   "nbconvert_exporter": "python",
   "pygments_lexer": "ipython3",
   "version": "3.9.18"
  }
 },
 "nbformat": 4,
 "nbformat_minor": 2
}
