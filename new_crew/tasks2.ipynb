{
 "cells": [
  {
   "cell_type": "code",
   "execution_count": 1,
   "metadata": {},
   "outputs": [
    {
     "ename": "ImportError",
     "evalue": "cannot import name 'config' from 'decouple' (/Users/isorabins/miniconda3/envs/new_hai/lib/python3.9/site-packages/decouple/__init__.py)",
     "output_type": "error",
     "traceback": [
      "\u001b[0;31m---------------------------------------------------------------------------\u001b[0m",
      "\u001b[0;31mImportError\u001b[0m                               Traceback (most recent call last)",
      "\u001b[1;32m/Users/isorabins/Desktop/GPT_AI/HAI_MY_HEALTH/new_hai/example_crew/tasks2.ipynb Cell 1\u001b[0m line \u001b[0;36m4\n\u001b[1;32m      <a href='vscode-notebook-cell:/Users/isorabins/Desktop/GPT_AI/HAI_MY_HEALTH/new_hai/example_crew/tasks2.ipynb#W1sZmlsZQ%3D%3D?line=1'>2</a>\u001b[0m \u001b[39mfrom\u001b[39;00m \u001b[39mcrewai\u001b[39;00m \u001b[39mimport\u001b[39;00m Agent, Task, Crew, Process\n\u001b[1;32m      <a href='vscode-notebook-cell:/Users/isorabins/Desktop/GPT_AI/HAI_MY_HEALTH/new_hai/example_crew/tasks2.ipynb#W1sZmlsZQ%3D%3D?line=2'>3</a>\u001b[0m \u001b[39mfrom\u001b[39;00m \u001b[39mlangchain_openai\u001b[39;00m \u001b[39mimport\u001b[39;00m ChatOpenAI\n\u001b[0;32m----> <a href='vscode-notebook-cell:/Users/isorabins/Desktop/GPT_AI/HAI_MY_HEALTH/new_hai/example_crew/tasks2.ipynb#W1sZmlsZQ%3D%3D?line=3'>4</a>\u001b[0m \u001b[39mfrom\u001b[39;00m \u001b[39mdecouple\u001b[39;00m \u001b[39mimport\u001b[39;00m config\n\u001b[1;32m      <a href='vscode-notebook-cell:/Users/isorabins/Desktop/GPT_AI/HAI_MY_HEALTH/new_hai/example_crew/tasks2.ipynb#W1sZmlsZQ%3D%3D?line=5'>6</a>\u001b[0m \u001b[39mfrom\u001b[39;00m \u001b[39mtextwrap\u001b[39;00m \u001b[39mimport\u001b[39;00m dedent\n\u001b[1;32m      <a href='vscode-notebook-cell:/Users/isorabins/Desktop/GPT_AI/HAI_MY_HEALTH/new_hai/example_crew/tasks2.ipynb#W1sZmlsZQ%3D%3D?line=6'>7</a>\u001b[0m \u001b[39mfrom\u001b[39;00m \u001b[39magents\u001b[39;00m \u001b[39mimport\u001b[39;00m CustomAgents\n",
      "\u001b[0;31mImportError\u001b[0m: cannot import name 'config' from 'decouple' (/Users/isorabins/miniconda3/envs/new_hai/lib/python3.9/site-packages/decouple/__init__.py)"
     ]
    }
   ],
   "source": [
    "import os\n",
    "from crewai import Agent, Task, Crew, Process\n",
    "from langchain_openai import ChatOpenAI\n",
    "from decouple import config\n",
    "\n",
    "from textwrap import dedent\n",
    "from agents import CustomAgents\n",
    "from tasks import CustomTasks"
   ]
  },
  {
   "cell_type": "code",
   "execution_count": null,
   "metadata": {},
   "outputs": [],
   "source": [
    "os.environ[\"OPENAI_API_KEY\"] = config(\"OPENAI_API_KEY\")\n",
    "os.environ[\"OPENAI_ORGANIZATION\"] = config(\"OPENAI_ORGANIZATION_ID\")\n"
   ]
  },
  {
   "cell_type": "code",
   "execution_count": null,
   "metadata": {},
   "outputs": [],
   "source": [
    "class HealthCoachTasks:\n",
    "    def initial_health_interview(self, agent):\n",
    "        return Task(description=dedent(\"\"\"\\\n",
    "            As 'Hai', the Health Coach, your first task is to conduct an initial health interview.\n",
    "            Engage the user in a conversation that feels natural and caring.\n",
    "            Collect baseline health data without making any diagnoses.\n",
    "            The goal is to make the user comfortable while gathering essential information\n",
    "            to track their symptoms and health trends over time.\n",
    "            Remember, privacy and empathy are key in these interactions.\"\"\"),\n",
    "            agent=agent\n",
    "        )\n",
    "    def daily_symptom_checkin(self, agent):\n",
    "        return Task(description=dedent(\"\"\"\\\n",
    "            Each day, 'Hai' will check in with the user to log their current symptoms.\n",
    "            Ask about their well-being and any new or changing symptoms since the last check-in.\n",
    "            Ensure that the conversation is supportive and that the user feels heard.\n",
    "            Document the symptoms accurately to maintain a reliable health log.\"\"\"),\n",
    "            agent=agent\n",
    "        )\n",
    "    def weekly_health_insight(self, agent):\n",
    "        return Task(description=dedent(\"\"\"\\\n",
    "            At the end of each week, 'Hai' will analyze the health data collected.\n",
    "            Identify any patterns or trends in the user's symptoms and well-being.\n",
    "            Generate a weekly health insight report that is informative and easy to understand.\n",
    "            Offer suggestions for lifestyle adjustments or reminders for follow-up if necessary.\"\"\"),\n",
    "            agent=agent\n",
    "        )\n",
    "\n",
    "    def user_feedback_collection(self, agent):\n",
    "        return Task(description=dedent(\"\"\"\\\n",
    "            Regularly, 'Hai' will seek feedback from the user about their health tracking experience.\n",
    "            Inquire about the usefulness of the insights provided and any improvements they suggest.\n",
    "            This information is crucial to enhance 'Hai's functionality and the user's experience.\"\"\"),\n",
    "            agent=agent\n",
    "        )\n",
    "\n",
    "\n"
   ]
  }
 ],
 "metadata": {
  "kernelspec": {
   "display_name": "new_hai",
   "language": "python",
   "name": "python3"
  },
  "language_info": {
   "codemirror_mode": {
    "name": "ipython",
    "version": 3
   },
   "file_extension": ".py",
   "mimetype": "text/x-python",
   "name": "python",
   "nbconvert_exporter": "python",
   "pygments_lexer": "ipython3",
   "version": "3.9.18"
  }
 },
 "nbformat": 4,
 "nbformat_minor": 2
}
