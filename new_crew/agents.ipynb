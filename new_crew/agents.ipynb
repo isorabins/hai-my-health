{
 "cells": [
  {
   "cell_type": "code",
   "execution_count": 24,
   "metadata": {},
   "outputs": [],
   "source": [
    "from crewai import Agent\n",
    "from textwrap import dedent\n",
    "from langchain.llms import OpenAI, Ollama\n",
    "from langchain_openai import ChatOpenAI"
   ]
  },
  {
   "cell_type": "code",
   "execution_count": 25,
   "metadata": {},
   "outputs": [],
   "source": [
    "# This is an example of how to define custom agents.\n",
    "# You can define as many agents as you want.\n",
    "# You can also define custom tasks in tasks.py\n",
    "class healthagents:\n",
    "    def __init__(self):\n",
    "        self.OpenAIGPT35 = ChatOpenAI(model_name=\"gpt-3.5-turbo\", temperature=0.7)\n",
    "        self.OpenAIGPT4 = ChatOpenAI(model_name=\"gpt-4\", temperature=0.4)\n",
    "        self.Ollama = Ollama(model=\"openhermes\")\n",
    "        self.Mistral = OpenAI(model=\"mistral\")"
   ]
  },
  {
   "cell_type": "code",
   "execution_count": 26,
   "metadata": {},
   "outputs": [],
   "source": [
    "def hai_initial(self):\n",
    "    return Agent(\n",
    "            role=\"health coach who holds intake interview\",\n",
    "            backstory=dedent(f\"I am a symptom tracker, eager to help you improve your health and well-being.\"\n",
    "        \" Friendly, helpful, focused on privacy and making you feel comfortable\"\n",
    "        \" I don't diagnose, just collect information to help you track your symptoms.\"),\n",
    "            goal=dedent(f\"gather baseline health data from the user to create a database where their symptoms can\"\n",
    "        \" be tracked and analyzed over time\"),\n",
    "            # tools=[tool_1, tool_2],\n",
    "            allow_delegation=False,\n",
    "            verbose=True,\n",
    "            llm=self.OpenAIGPT4,\n",
    "        )"
   ]
  },
  {
   "cell_type": "code",
   "execution_count": 27,
   "metadata": {},
   "outputs": [],
   "source": [
    "def insight_generator_agent(self):\n",
    "    return Agent(\n",
    "        role=\"Insight Generator\",\n",
    "        backstory=dedent(\"\"\"\\\n",
    "            As an Insight Generator, I'm here to analyze your health tracking data,\n",
    "            uncover insights, and compile them into weekly summaries to keep you informed and empowered to make healthier choices.\"\"\"),\n",
    "        goal=dedent(\"\"\"\\\n",
    "            My goal is to transform your health data into actionable insights,\n",
    "            providing you with personalized weekly summaries that highlight trends and offer recommendations.\"\"\"),\n",
    "        allow_delegation=False,\n",
    "        verbose=True,\n",
    "        llm=self.openAIGPT4,  \n",
    "    )\n"
   ]
  },
  {
   "cell_type": "code",
   "execution_count": 28,
   "metadata": {},
   "outputs": [],
   "source": [
    "def hai_daily(self):\n",
    "    return Agent(\n",
    "            role=\"health coach who holds daily check-ins\",\n",
    "            backstory=dedent(f\"check in each day with the patient to gather data on their symptoms and how they are feeling\"\n",
    "        \" see if there are any changes or new symptoms/medications to report\"\n",
    "        \" update their file with new information\"),\n",
    "            goal=dedent(f\"I am a symptom tracker, eager to help you improve your health and well-being.\"\n",
    "        \" Friendly, helpful, focused on privacy and making the user feel comfortable\"\n",
    "        \" I don't diagnose, just collect information to help you track your symptoms.\"),\n",
    "            # tools=[tool_1, tool_2],\n",
    "            allow_delegation=False,\n",
    "            verbose=True,\n",
    "            llm=self.OpenAIGPT4,\n",
    "        )"
   ]
  }
 ],
 "metadata": {
  "kernelspec": {
   "display_name": "new_hai",
   "language": "python",
   "name": "python3"
  },
  "language_info": {
   "codemirror_mode": {
    "name": "ipython",
    "version": 3
   },
   "file_extension": ".py",
   "mimetype": "text/x-python",
   "name": "python",
   "nbconvert_exporter": "python",
   "pygments_lexer": "ipython3",
   "version": "3.11.8"
  }
 },
 "nbformat": 4,
 "nbformat_minor": 2
}
